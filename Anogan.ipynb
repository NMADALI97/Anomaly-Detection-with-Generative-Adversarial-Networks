{
  "nbformat": 4,
  "nbformat_minor": 0,
  "metadata": {
    "colab": {
      "name": "Untitled24.ipynb",
      "provenance": [],
      "collapsed_sections": []
    },
    "kernelspec": {
      "name": "python3",
      "display_name": "Python 3"
    },
    "accelerator": "GPU"
  },
  "cells": [
    {
      "cell_type": "code",
      "metadata": {
        "id": "mdztx6KVnvGt",
        "colab_type": "code",
        "colab": {
          "base_uri": "https://localhost:8080/",
          "height": 81
        },
        "outputId": "6190a13f-f4f9-4eef-e1f5-2efa2b174578"
      },
      "source": [
        "from __future__ import print_function\n",
        "from keras.models import Sequential, Model\n",
        "from keras.layers import Input, Reshape, Dense, Dropout, MaxPooling2D, Conv2D, Flatten\n",
        "from keras.layers import Conv2DTranspose, LeakyReLU\n",
        "from keras.layers.core import Activation\n",
        "from keras.layers.normalization import BatchNormalization\n",
        "from keras.optimizers import Adam, RMSprop\n",
        "from keras import backend as K\n",
        "from keras import initializers\n",
        "import tensorflow as tf\n",
        "import numpy as np\n",
        "from tqdm import tqdm\n",
        "import cv2\n",
        "import math\n",
        "\n",
        "from keras.utils. generic_utils import Progbar\n",
        "\n",
        "### combine images for visualization\n",
        "def combine_images(generated_images):\n",
        "    num = generated_images.shape[0]\n",
        "    width = int(math.sqrt(num))\n",
        "    height = int(math.ceil(float(num)/width))\n",
        "    shape = generated_images.shape[1:4]\n",
        "    image = np.zeros((height*shape[0], width*shape[1], shape[2]),\n",
        "                     dtype=generated_images.dtype)\n",
        "    for index, img in enumerate(generated_images):\n",
        "        i = int(index/width)\n",
        "        j = index % width\n",
        "        image[i*shape[0]:(i+1)*shape[0], j*shape[1]:(j+1)*shape[1],:] = img[:, :, :]\n",
        "    return image\n",
        "\n",
        "### generator model define\n",
        "def generator_model():\n",
        "    inputs = Input((10,))\n",
        "    fc1 = Dense(input_dim=10, units=128*7*7)(inputs)\n",
        "    fc1 = BatchNormalization()(fc1)\n",
        "    fc1 = LeakyReLU(0.2)(fc1)\n",
        "    fc2 = Reshape((7, 7, 128), input_shape=(128*7*7,))(fc1)\n",
        "    up1 = Conv2DTranspose(64, (2, 2), strides=(2, 2), padding='same')(fc2)\n",
        "    conv1 = Conv2D(64, (3, 3), padding='same')(up1)\n",
        "    conv1 = BatchNormalization()(conv1)\n",
        "    conv1 = Activation('relu')(conv1)\n",
        "    up2 = Conv2DTranspose(64, (2, 2), strides=(2, 2), padding='same')(conv1)\n",
        "    conv2 = Conv2D(1, (5, 5), padding='same')(up2)\n",
        "    outputs = Activation('tanh')(conv2)\n",
        "    \n",
        "    model = Model(inputs=[inputs], outputs=[outputs])\n",
        "    return model\n",
        "\n",
        "### discriminator model define\n",
        "def discriminator_model():\n",
        "    inputs = Input((28, 28, 1))\n",
        "    conv1 = Conv2D(64, (5, 5), padding='same')(inputs)\n",
        "    conv1 = LeakyReLU(0.2)(conv1)\n",
        "    pool1 = MaxPooling2D(pool_size=(2, 2))(conv1)\n",
        "    conv2 = Conv2D(128, (5, 5), padding='same')(pool1)\n",
        "    conv2 = LeakyReLU(0.2)(conv2)\n",
        "    pool2 = MaxPooling2D(pool_size=(2, 2))(conv2)\n",
        "    fc1 = Flatten()(pool2)\n",
        "    fc1 = Dense(1)(fc1)\n",
        "    outputs = Activation('sigmoid')(fc1)\n",
        "    \n",
        "    model = Model(inputs=[inputs], outputs=[outputs])\n",
        "    return model\n",
        "\n",
        "### d_on_g model for training generator\n",
        "def generator_containing_discriminator(g, d):\n",
        "    d.trainable = False\n",
        "    ganInput = Input(shape=(10,))\n",
        "    x = g(ganInput)\n",
        "    ganOutput = d(x)\n",
        "    gan = Model(inputs=ganInput, outputs=ganOutput)\n",
        "    # gan.compile(loss='binary_crossentropy', optimizer='adam')\n",
        "    return gan\n",
        "\n",
        "def load_model():\n",
        "    d = discriminator_model()\n",
        "    g = generator_model()\n",
        "    d_optim = RMSprop()\n",
        "    g_optim = RMSprop(lr=0.0002)\n",
        "    g.compile(loss='binary_crossentropy', optimizer=g_optim)\n",
        "    d.compile(loss='binary_crossentropy', optimizer=d_optim)\n",
        "    d.load_weights('weights/discriminator.h5')\n",
        "    g.load_weights('weights/generator.h5')\n",
        "    return g, d\n",
        "\n",
        "### train generator and discriminator\n",
        "def train(BATCH_SIZE, X_train):\n",
        "    \n",
        "    ### model define\n",
        "    d = discriminator_model()\n",
        "    g = generator_model()\n",
        "    d_on_g = generator_containing_discriminator(g, d)\n",
        "    d_optim = RMSprop(lr=0.0004)\n",
        "    g_optim = RMSprop(lr=0.0002)\n",
        "    g.compile(loss='mse', optimizer=g_optim)\n",
        "    d_on_g.compile(loss='mse', optimizer=g_optim)\n",
        "    d.trainable = True\n",
        "    d.compile(loss='mse', optimizer=d_optim)\n",
        "    \n",
        "\n",
        "    for epoch in range(10):\n",
        "        print (\"Epoch is\", epoch)\n",
        "        n_iter = int(X_train.shape[0]/BATCH_SIZE)\n",
        "        progress_bar = Progbar(target=n_iter)\n",
        "        \n",
        "        for index in range(n_iter):\n",
        "            # create random noise -> U(0,1) 10 latent vectors\n",
        "            noise = np.random.uniform(0, 1, size=(BATCH_SIZE, 10))\n",
        "\n",
        "            # load real data & generate fake data\n",
        "            image_batch = X_train[index*BATCH_SIZE:(index+1)*BATCH_SIZE]\n",
        "            generated_images = g.predict(noise, verbose=0)\n",
        "            \n",
        "            # visualize training results\n",
        "            if index % 20 == 0:\n",
        "                image = combine_images(generated_images)\n",
        "                image = image*127.5+127.5\n",
        "                cv2.imwrite('./result/'+str(epoch)+\"_\"+str(index)+\".png\", image)\n",
        "\n",
        "            # attach label for training discriminator\n",
        "            X = np.concatenate((image_batch, generated_images))\n",
        "            y = np.array([1] * BATCH_SIZE + [0] * BATCH_SIZE)\n",
        "            \n",
        "            # training discriminator\n",
        "            d_loss = d.train_on_batch(X, y)\n",
        "\n",
        "            # training generator\n",
        "            d.trainable = False\n",
        "            g_loss = d_on_g.train_on_batch(noise, np.array([1] * BATCH_SIZE))\n",
        "            d.trainable = True\n",
        "\n",
        "            progress_bar.update(index, values=[('g',g_loss), ('d',d_loss)])\n",
        "        print ('')\n",
        "\n",
        "        # save weights for each epoch\n",
        "        g.save_weights('weights/generator.h5', True)\n",
        "        d.save_weights('weights/discriminator.h5', True)\n",
        "    return d, g\n",
        "\n",
        "### generate images\n",
        "def generate(BATCH_SIZE):\n",
        "    g = generator_model()\n",
        "    g.load_weights('weights/generator.h5')\n",
        "    noise = np.random.uniform(0, 1, (BATCH_SIZE, 10))\n",
        "    generated_images = g.predict(noise)\n",
        "    return generated_images\n",
        "\n",
        "### anomaly loss function \n",
        "def sum_of_residual(y_true, y_pred):\n",
        "    return K.sum(K.abs(y_true - y_pred))\n",
        "\n",
        "### discriminator intermediate layer feautre extraction\n",
        "def feature_extractor(d=None):\n",
        "    if d is None:\n",
        "        d = discriminator_model()\n",
        "        d.load_weights('weights/discriminator.h5') \n",
        "    intermidiate_model = Model(inputs=d.layers[0].input, outputs=d.layers[-7].output)\n",
        "    intermidiate_model.compile(loss='binary_crossentropy', optimizer='rmsprop')\n",
        "    return intermidiate_model\n",
        "\n",
        "### anomaly detection model define\n",
        "def anomaly_detector(g=None, d=None):\n",
        "    if g is None:\n",
        "        g = generator_model()\n",
        "        g.load_weights('weights/generator.h5')\n",
        "    intermidiate_model = feature_extractor(d)\n",
        "    intermidiate_model.trainable = False\n",
        "    g = Model(inputs=g.layers[1].input, outputs=g.layers[-1].output)\n",
        "    g.trainable = False\n",
        "    # Input layer cann't be trained. Add new layer as same size & same distribution\n",
        "    aInput = Input(shape=(10,))\n",
        "    gInput = Dense((10), trainable=True)(aInput)\n",
        "    gInput = Activation('sigmoid')(gInput)\n",
        "    \n",
        "    # G & D feature\n",
        "    G_out = g(gInput)\n",
        "    D_out= intermidiate_model(G_out)    \n",
        "    model = Model(inputs=aInput, outputs=[G_out, D_out])\n",
        "    model.compile(loss=sum_of_residual, loss_weights= [0.90, 0.10], optimizer='rmsprop')\n",
        "    \n",
        "    # batchnorm learning phase fixed (test) : make non trainable\n",
        "    K.set_learning_phase(0)\n",
        "    \n",
        "    return model\n",
        "\n",
        "### anomaly detection\n",
        "def compute_anomaly_score(model, x, iterations=500, d=None):\n",
        "    z = np.random.uniform(0, 1, size=(1, 10))\n",
        "    \n",
        "    intermidiate_model = feature_extractor(d)\n",
        "    d_x = intermidiate_model.predict(x)\n",
        "\n",
        "    # learning for changing latent\n",
        "    loss = model.fit(z, [x, d_x], batch_size=1, epochs=iterations, verbose=0)\n",
        "    similar_data, _ = model.predict(z)\n",
        "    \n",
        "    loss = loss.history['loss'][-1]\n",
        "    \n",
        "    return loss, similar_data"
      ],
      "execution_count": 1,
      "outputs": [
        {
          "output_type": "stream",
          "text": [
            "Using TensorFlow backend.\n"
          ],
          "name": "stderr"
        },
        {
          "output_type": "display_data",
          "data": {
            "text/html": [
              "<p style=\"color: red;\">\n",
              "The default version of TensorFlow in Colab will soon switch to TensorFlow 2.x.<br>\n",
              "We recommend you <a href=\"https://www.tensorflow.org/guide/migrate\" target=\"_blank\">upgrade</a> now \n",
              "or ensure your notebook will continue to use TensorFlow 1.x via the <code>%tensorflow_version 1.x</code> magic:\n",
              "<a href=\"https://colab.research.google.com/notebooks/tensorflow_version.ipynb\" target=\"_blank\">more info</a>.</p>\n"
            ],
            "text/plain": [
              "<IPython.core.display.HTML object>"
            ]
          },
          "metadata": {
            "tags": []
          }
        }
      ]
    },
    {
      "cell_type": "code",
      "metadata": {
        "id": "2tyHhG56o_nO",
        "colab_type": "code",
        "colab": {}
      },
      "source": [
        "import os\n",
        "os.mkdir(\"weights\")"
      ],
      "execution_count": 0,
      "outputs": []
    },
    {
      "cell_type": "code",
      "metadata": {
        "id": "k7HIfORnoXs5",
        "colab_type": "code",
        "colab": {}
      },
      "source": [
        "from __future__ import print_function\n",
        "import matplotlib\n",
        "\n",
        "\n",
        "import os\n",
        "import cv2\n",
        "import numpy as np\n",
        "import matplotlib.pyplot as plt\n",
        "from keras.datasets import mnist\n",
        "import argparse"
      ],
      "execution_count": 0,
      "outputs": []
    },
    {
      "cell_type": "code",
      "metadata": {
        "id": "dr1MKYNTog7_",
        "colab_type": "code",
        "colab": {
          "base_uri": "https://localhost:8080/",
          "height": 86
        },
        "outputId": "7fc48d0f-0ad0-4e8c-d33f-673a0771629b"
      },
      "source": [
        "(X_train, y_train), (X_test, y_test) = mnist.load_data()\n",
        "X_train = (X_train.astype(np.float32) - 127.5) / 127.5\n",
        "X_test = (X_test.astype(np.float32) - 127.5) / 127.5\n",
        "\n",
        "X_train = X_train[:,:,:,None]\n",
        "X_test = X_test[:,:,:,None]\n",
        "\n",
        "X_test_original = X_test.copy()\n",
        "\n",
        "X_train = X_train[y_train==1]\n",
        "X_test = X_test[y_test==1]\n",
        "print ('train shape:', X_train.shape)\n",
        "print ('test shape:', X_train.shape)"
      ],
      "execution_count": 4,
      "outputs": [
        {
          "output_type": "stream",
          "text": [
            "Downloading data from https://s3.amazonaws.com/img-datasets/mnist.npz\n",
            "11493376/11490434 [==============================] - 1s 0us/step\n",
            "train shape: (6742, 28, 28, 1)\n",
            "test shape: (6742, 28, 28, 1)\n"
          ],
          "name": "stdout"
        }
      ]
    },
    {
      "cell_type": "code",
      "metadata": {
        "id": "cVXSs9L4omFt",
        "colab_type": "code",
        "colab": {
          "base_uri": "https://localhost:8080/",
          "height": 364
        },
        "outputId": "2309d610-e0b3-418b-a58f-43289092785e"
      },
      "source": [
        "Model_d, Model_g = train(64, X_train)"
      ],
      "execution_count": 8,
      "outputs": [
        {
          "output_type": "stream",
          "text": [
            "Epoch is 0\n",
            "103/105 [============================>.] - ETA: 0s - g: 0.3060 - d: 0.1799\n",
            "Epoch is 1\n",
            "104/105 [============================>.] - ETA: 0s - g: 0.1077 - d: 0.1447\n",
            "Epoch is 2\n",
            "104/105 [============================>.] - ETA: 0s - g: 0.2234 - d: 0.1841\n",
            "Epoch is 3\n",
            "102/105 [============================>.] - ETA: 0s - g: 0.2692 - d: 0.2177\n",
            "Epoch is 4\n",
            "103/105 [============================>.] - ETA: 0s - g: 0.2857 - d: 0.2230\n",
            "Epoch is 5\n",
            "104/105 [============================>.] - ETA: 0s - g: 0.2836 - d: 0.2277\n",
            "Epoch is 6\n",
            "103/105 [============================>.] - ETA: 0s - g: 0.2707 - d: 0.2357\n",
            "Epoch is 7\n",
            "102/105 [============================>.] - ETA: 0s - g: 0.2710 - d: 0.2382\n",
            "Epoch is 8\n",
            "103/105 [============================>.] - ETA: 0s - g: 0.2673 - d: 0.2354\n",
            "Epoch is 9\n",
            "103/105 [============================>.] - ETA: 0s - g: 0.2683 - d: 0.2341\n"
          ],
          "name": "stdout"
        }
      ]
    },
    {
      "cell_type": "code",
      "metadata": {
        "id": "RD-U9L0FpUCF",
        "colab_type": "code",
        "colab": {
          "base_uri": "https://localhost:8080/",
          "height": 281
        },
        "outputId": "78d1da07-e795-4ebc-b25b-480bf13f0f0a"
      },
      "source": [
        "\n",
        "generated_img = generate(25)\n",
        "img = combine_images(generated_img)\n",
        "img = (img*127.5)+127.5\n",
        "img = img.astype(np.uint8)\n",
        "img = cv2.resize(img, None, fx=4, fy=4, interpolation=cv2.INTER_NEAREST)\n",
        "\n",
        "\n",
        "\n",
        "plt.figure(num=0, figsize=(4, 4))\n",
        "plt.title('trained generator')\n",
        "plt.imshow(img, cmap=plt.cm.gray)\n",
        "plt.show()\n",
        "\n"
      ],
      "execution_count": 9,
      "outputs": [
        {
          "output_type": "display_data",
          "data": {
            "image/png": "[encoded data removed]",
            "text/plain": [
              "<Figure size 288x288 with 1 Axes>"
            ]
          },
          "metadata": {
            "tags": []
          }
        }
      ]
    },
    {
      "cell_type": "code",
      "metadata": {
        "id": "w70eo5Z4psWC",
        "colab_type": "code",
        "colab": {}
      },
      "source": [
        "def anomaly_detection(test_img, g=None, d=None):\n",
        "    model = anomaly_detector(g=g, d=d)\n",
        "    ano_score, similar_img =compute_anomaly_score(model, test_img.reshape(1, 28, 28, 1), iterations=500, d=d)\n",
        "\n",
        "    # anomaly area, 255 normalization\n",
        "    np_residual = test_img.reshape(28,28,1) - similar_img.reshape(28,28,1)\n",
        "    np_residual = (np_residual + 2)/4\n",
        "\n",
        "    np_residual = (255*np_residual).astype(np.uint8)\n",
        "    original_x = (test_img.reshape(28,28,1)*127.5+127.5).astype(np.uint8)\n",
        "    similar_x = (similar_img.reshape(28,28,1)*127.5+127.5).astype(np.uint8)\n",
        "\n",
        "    original_x_color = cv2.cvtColor(original_x, cv2.COLOR_GRAY2BGR)\n",
        "    residual_color = cv2.applyColorMap(np_residual, cv2.COLORMAP_JET)\n",
        "    show = cv2.addWeighted(original_x_color, 0.3, residual_color, 0.7, 0.)\n",
        "\n",
        "    return ano_score, original_x, similar_x, show"
      ],
      "execution_count": 0,
      "outputs": []
    },
    {
      "cell_type": "code",
      "metadata": {
        "id": "ahF42uWrpxEO",
        "colab_type": "code",
        "colab": {
          "base_uri": "https://localhost:8080/",
          "height": 789
        },
        "outputId": "e1e10ee8-00d2-43ca-b732-47bf74e39827"
      },
      "source": [
        "img_idx = 16\n",
        "label_idx = 7\n",
        "test_img = X_test_original[y_test==label_idx][img_idx]\n",
        "\n",
        "start = cv2.getTickCount()\n",
        "score, qurey, pred, diff = anomaly_detection(test_img)\n",
        "time = (cv2.getTickCount() - start) / cv2.getTickFrequency() * 1000\n",
        "print ('%d label, %d : done'%(label_idx, img_idx), '%.2f'%score, '%.2fms'%time)\n",
        "\n",
        "plt.figure(1, figsize=(3, 3))\n",
        "plt.title('query image')\n",
        "plt.imshow(qurey.reshape(28,28), cmap=plt.cm.gray)\n",
        "\n",
        "print(\"anomaly score : \", score)\n",
        "plt.figure(2, figsize=(3, 3))\n",
        "plt.title('generated similar image')\n",
        "plt.imshow(pred.reshape(28,28), cmap=plt.cm.gray)\n",
        "\n",
        "plt.figure(3, figsize=(3, 3))\n",
        "plt.title('anomaly detection')\n",
        "plt.imshow(cv2.cvtColor(diff,cv2.COLOR_BGR2RGB))\n",
        "plt.show()"
      ],
      "execution_count": 15,
      "outputs": [
        {
          "output_type": "stream",
          "text": [
            "WARNING:tensorflow:From /usr/local/lib/python3.6/dist-packages/keras/backend/tensorflow_backend.py:3657: The name tf.log is deprecated. Please use tf.math.log instead.\n",
            "\n",
            "WARNING:tensorflow:From /usr/local/lib/python3.6/dist-packages/tensorflow_core/python/ops/nn_impl.py:183: where (from tensorflow.python.ops.array_ops) is deprecated and will be removed in a future version.\n",
            "Instructions for updating:\n",
            "Use tf.where in 2.0, which has the same broadcast rule as np.where\n",
            "7 label, 16 : done 126.04 6963.74ms\n",
            "anomaly score :  126.043701171875\n"
          ],
          "name": "stdout"
        },
        {
          "output_type": "display_data",
          "data": {
            "image/png": "[encoded data removed]",
            "text/plain": [
              "<Figure size 216x216 with 1 Axes>"
            ]
          },
          "metadata": {
            "tags": []
          }
        },
        {
          "output_type": "display_data",
          "data": {
            "image/png": "[encoded data removed]",
            "text/plain": [
              "<Figure size 216x216 with 1 Axes>"
            ]
          },
          "metadata": {
            "tags": []
          }
        },
        {
          "output_type": "display_data",
          "data": {
            "image/png": "[encoded data removed]",
            "text/plain": [
              "<Figure size 216x216 with 1 Axes>"
            ]
          },
          "metadata": {
            "tags": []
          }
        }
      ]
    },
    {
      "cell_type": "code",
      "metadata": {
        "id": "tfDra8iwqNIL",
        "colab_type": "code",
        "colab": {
          "base_uri": "https://localhost:8080/",
          "height": 506
        },
        "outputId": "a9e6726a-6f65-4d70-9232-6f9a4bce2271"
      },
      "source": [
        "from sklearn.manifold import TSNE\n",
        "\n",
        "random_image = np.random.uniform(0, 1, (100, 28, 28, 1))\n",
        "print(\"random noise image\")\n",
        "plt.figure(4, figsize=(2, 2))\n",
        "plt.title('random noise image')\n",
        "plt.imshow(random_image[0].reshape(28,28), cmap=plt.cm.gray)\n",
        "\n",
        "# intermidieate output of discriminator\n",
        "model = feature_extractor()\n",
        "feature_map_of_random = model.predict(random_image, verbose=1)\n",
        "feature_map_of_minist = model.predict(X_test_original[y_test != 1][:300], verbose=1)\n",
        "feature_map_of_minist_1 = model.predict(X_test[:100], verbose=1)\n",
        "\n",
        "# t-SNE for visulization\n",
        "output = np.concatenate((feature_map_of_random, feature_map_of_minist, feature_map_of_minist_1))\n",
        "output = output.reshape(output.shape[0], -1)\n",
        "anomaly_flag = np.array([1]*100+ [0]*300)\n",
        "\n",
        "X_embedded = TSNE(n_components=2).fit_transform(output)\n",
        "plt.figure(5)\n",
        "plt.title(\"t-SNE embedding on the feature representation\")\n",
        "plt.scatter(X_embedded[:100,0], X_embedded[:100,1], label='random noise(anomaly)')\n",
        "plt.scatter(X_embedded[100:400,0], X_embedded[100:400,1], label='mnist(anomaly)')\n",
        "plt.scatter(X_embedded[400:,0], X_embedded[400:,1], label='mnist(normal)')\n",
        "plt.legend()\n",
        "plt.show()"
      ],
      "execution_count": 16,
      "outputs": [
        {
          "output_type": "stream",
          "text": [
            "random noise image\n",
            "100/100 [==============================] - 1s 6ms/step\n",
            "300/300 [==============================] - 0s 115us/step\n",
            "100/100 [==============================] - 0s 135us/step\n"
          ],
          "name": "stdout"
        },
        {
          "output_type": "display_data",
          "data": {
            "image/png": "[encoded data removed]",
            "text/plain": [
              "<Figure size 144x144 with 1 Axes>"
            ]
          },
          "metadata": {
            "tags": []
          }
        },
        {
          "output_type": "display_data",
          "data": {
            "image/png": "[encoded data removed]",
            "text/plain": [
              "<Figure size 432x288 with 1 Axes>"
            ]
          },
          "metadata": {
            "tags": []
          }
        }
      ]
    }
  ]
}